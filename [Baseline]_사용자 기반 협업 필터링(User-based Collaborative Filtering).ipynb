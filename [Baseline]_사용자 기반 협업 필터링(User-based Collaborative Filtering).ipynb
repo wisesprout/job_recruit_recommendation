{
 "cells": [
  {
   "cell_type": "markdown",
   "id": "b61f7f3a-5205-46d9-9f27-5612cfc68ca7",
   "metadata": {},
   "source": [
    "## Import"
   ]
  },
  {
   "cell_type": "code",
   "execution_count": null,
   "id": "71c31dfc-ebb8-4af4-a036-597365c5d3ba",
   "metadata": {
    "tags": []
   },
   "outputs": [],
   "source": [
    "import pandas as pd\n",
    "import numpy as np\n",
    "from sklearn.metrics.pairwise import cosine_similarity"
   ]
  },
  {
   "cell_type": "markdown",
   "id": "f66ab440-f598-4dbe-89de-8bc863bab258",
   "metadata": {},
   "source": [
    "## Data Load"
   ]
  },
  {
   "cell_type": "code",
   "execution_count": 2,
   "id": "d9feb8a6-5717-4221-950e-893002009824",
   "metadata": {},
   "outputs": [],
   "source": [
    "apply_train_df = pd.read_csv('apply_train.csv')"
   ]
  },
  {
   "cell_type": "markdown",
   "id": "40ed2463-79c1-462e-835e-eed30beee9b9",
   "metadata": {},
   "source": [
    "## User-Item Matrix / Similarity / Score"
   ]
  },
  {
   "cell_type": "code",
   "execution_count": 3,
   "id": "d70bbbf1-ccbe-41d2-a44e-572be670f7b3",
   "metadata": {},
   "outputs": [],
   "source": [
    "# 사용자-아이템 행렬 생성: 구직자가 해당 채용 공고에 지원했으면 1, 아니면 0으로 설정\n",
    "user_item_matrix = apply_train_df.groupby(['resume_seq', 'recruitment_seq']).size().unstack(fill_value=0)\n",
    "user_item_matrix[user_item_matrix > 1] = 1\n",
    "\n",
    "# 사용자 간의 유사성 계산\n",
    "user_similarity = cosine_similarity(user_item_matrix)\n",
    "\n",
    "# 추천 점수 계산\n",
    "user_predicted_scores = user_similarity.dot(user_item_matrix) / np.array([np.abs(user_similarity).sum(axis=1)]).T"
   ]
  },
  {
   "cell_type": "markdown",
   "id": "d26354ac-e4d1-45c8-9989-959ded47a495",
   "metadata": {},
   "source": [
    "## Prediction"
   ]
  },
  {
   "cell_type": "code",
   "execution_count": 4,
   "id": "d06ab32b-8d6f-4e60-b9ba-128fed459309",
   "metadata": {},
   "outputs": [],
   "source": [
    "# 이미 지원한 채용 공고 제외하고 추천\n",
    "recommendations = []\n",
    "for idx, user in enumerate(user_item_matrix.index):\n",
    "    # 해당 사용자가 지원한 채용 공고\n",
    "    applied_jobs = set(user_item_matrix.loc[user][user_item_matrix.loc[user] == 1].index)\n",
    "    \n",
    "    # 해당 사용자의 추천 점수 (높은 점수부터 정렬)\n",
    "    sorted_job_indices = user_predicted_scores[idx].argsort()[::-1]\n",
    "    recommended_jobs = [job for job in user_item_matrix.columns[sorted_job_indices] if job not in applied_jobs][:5]\n",
    "    \n",
    "    for job in recommended_jobs:\n",
    "        recommendations.append([user, job])"
   ]
  },
  {
   "cell_type": "markdown",
   "id": "40aa5ec7-6604-491f-973f-cd2c596cea32",
   "metadata": {},
   "source": [
    "## Submission"
   ]
  },
  {
   "cell_type": "code",
   "execution_count": 5,
   "id": "bb643208-457b-4a4f-a8f4-c74277338e05",
   "metadata": {},
   "outputs": [],
   "source": [
    "# sample_submission.csv 형태로 DataFrame 생성\n",
    "top_recommendations = pd.DataFrame(recommendations, columns=['resume_seq', 'recruitment_seq'])\n",
    "\n",
    "top_recommendations.to_csv('./baseline_submit.csv', index=False)"
   ]
  }
 ],
 "metadata": {
  "kernelspec": {
   "display_name": "PyTorch 1.14 (NGC 22.12/Python 3.8) on Backend.AI",
   "language": "python",
   "name": "python3"
  },
  "language_info": {
   "codemirror_mode": {
    "name": "ipython",
    "version": 3
   },
   "file_extension": ".py",
   "mimetype": "text/x-python",
   "name": "python",
   "nbconvert_exporter": "python",
   "pygments_lexer": "ipython3",
   "version": "3.8.10"
  }
 },
 "nbformat": 4,
 "nbformat_minor": 5
}
